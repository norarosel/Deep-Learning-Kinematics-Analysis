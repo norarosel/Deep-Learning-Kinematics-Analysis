{
 "cells": [
  {
   "cell_type": "markdown",
   "metadata": {
    "id": "A35GiqEsDNgp"
   },
   "source": [
    "18/06/2025 - Nora Cécile Rosel Zaballos\n",
    "\n",
    "Code for camera calibration and triangulation (through EasyMocap), to test multi-view with MMPose."
   ]
  },
  {
   "cell_type": "code",
   "execution_count": null,
   "metadata": {
    "colab": {
     "base_uri": "https://localhost:8080/",
     "height": 1000
    },
    "collapsed": true,
    "executionInfo": {
     "elapsed": 31438,
     "status": "ok",
     "timestamp": 1750771178336,
     "user": {
      "displayName": "Μαρία Πλουμιτσάκου",
      "userId": "09835486863166468211"
     },
     "user_tz": -120
    },
    "id": "HSVLQQqmeac8",
    "outputId": "5dfec8b5-ab96-4ed2-e1ed-4bf778575e3c"
   },
   "outputs": [],
   "source": [
    "# Clone repo and change directory\n",
    "!git clone https://github.com/zju3dv/EasyMocap.git\n",
    "%cd /content/EasyMocap\n",
    "\n",
    "# Install dependencies\n",
    "!pip install -r requirements.txt\n",
    "!pip install ipdb joblib tqdm opencv-python yacs tabulate termcolor\n",
    "!pip install mediapipe==0.10.5\n",
    "!pip install func_timeout\n",
    "!apt-get -qq install ffmpeg"
   ]
  },
  {
   "cell_type": "markdown",
   "metadata": {
    "id": "1yM_owKFD-ca"
   },
   "source": []
  },
  {
   "cell_type": "code",
   "execution_count": null,
   "metadata": {
    "id": "FjhBSnof9qhy"
   },
   "outputs": [],
   "source": [
    "# Add the root EasyMocap to PYTHONPATH\n",
    "import sys\n",
    "sys.path.append('/content/EasyMocap')"
   ]
  },
  {
   "cell_type": "code",
   "execution_count": null,
   "metadata": {
    "colab": {
     "base_uri": "https://localhost:8080/",
     "height": 142
    },
    "collapsed": true,
    "executionInfo": {
     "elapsed": 311305,
     "status": "ok",
     "timestamp": 1750771489654,
     "user": {
      "displayName": "Μαρία Πλουμιτσάκου",
      "userId": "09835486863166468211"
     },
     "user_tz": -120
    },
    "id": "qVn0mZBj9U65",
    "outputId": "2d313cbf-8be7-4788-e015-1e2cd765f9a9"
   },
   "outputs": [
    {
     "data": {
      "text/html": [
       "\n",
       "     <input type=\"file\" id=\"files-cfb8efe7-a177-41a9-8315-0b0a7100b707\" name=\"files[]\" multiple disabled\n",
       "        style=\"border:none\" />\n",
       "     <output id=\"result-cfb8efe7-a177-41a9-8315-0b0a7100b707\">\n",
       "      Upload widget is only available when the cell has been executed in the\n",
       "      current browser session. Please rerun this cell to enable.\n",
       "      </output>\n",
       "      <script>// Copyright 2017 Google LLC\n",
       "//\n",
       "// Licensed under the Apache License, Version 2.0 (the \"License\");\n",
       "// you may not use this file except in compliance with the License.\n",
       "// You may obtain a copy of the License at\n",
       "//\n",
       "//      http://www.apache.org/licenses/LICENSE-2.0\n",
       "//\n",
       "// Unless required by applicable law or agreed to in writing, software\n",
       "// distributed under the License is distributed on an \"AS IS\" BASIS,\n",
       "// WITHOUT WARRANTIES OR CONDITIONS OF ANY KIND, either express or implied.\n",
       "// See the License for the specific language governing permissions and\n",
       "// limitations under the License.\n",
       "\n",
       "/**\n",
       " * @fileoverview Helpers for google.colab Python module.\n",
       " */\n",
       "(function(scope) {\n",
       "function span(text, styleAttributes = {}) {\n",
       "  const element = document.createElement('span');\n",
       "  element.textContent = text;\n",
       "  for (const key of Object.keys(styleAttributes)) {\n",
       "    element.style[key] = styleAttributes[key];\n",
       "  }\n",
       "  return element;\n",
       "}\n",
       "\n",
       "// Max number of bytes which will be uploaded at a time.\n",
       "const MAX_PAYLOAD_SIZE = 100 * 1024;\n",
       "\n",
       "function _uploadFiles(inputId, outputId) {\n",
       "  const steps = uploadFilesStep(inputId, outputId);\n",
       "  const outputElement = document.getElementById(outputId);\n",
       "  // Cache steps on the outputElement to make it available for the next call\n",
       "  // to uploadFilesContinue from Python.\n",
       "  outputElement.steps = steps;\n",
       "\n",
       "  return _uploadFilesContinue(outputId);\n",
       "}\n",
       "\n",
       "// This is roughly an async generator (not supported in the browser yet),\n",
       "// where there are multiple asynchronous steps and the Python side is going\n",
       "// to poll for completion of each step.\n",
       "// This uses a Promise to block the python side on completion of each step,\n",
       "// then passes the result of the previous step as the input to the next step.\n",
       "function _uploadFilesContinue(outputId) {\n",
       "  const outputElement = document.getElementById(outputId);\n",
       "  const steps = outputElement.steps;\n",
       "\n",
       "  const next = steps.next(outputElement.lastPromiseValue);\n",
       "  return Promise.resolve(next.value.promise).then((value) => {\n",
       "    // Cache the last promise value to make it available to the next\n",
       "    // step of the generator.\n",
       "    outputElement.lastPromiseValue = value;\n",
       "    return next.value.response;\n",
       "  });\n",
       "}\n",
       "\n",
       "/**\n",
       " * Generator function which is called between each async step of the upload\n",
       " * process.\n",
       " * @param {string} inputId Element ID of the input file picker element.\n",
       " * @param {string} outputId Element ID of the output display.\n",
       " * @return {!Iterable<!Object>} Iterable of next steps.\n",
       " */\n",
       "function* uploadFilesStep(inputId, outputId) {\n",
       "  const inputElement = document.getElementById(inputId);\n",
       "  inputElement.disabled = false;\n",
       "\n",
       "  const outputElement = document.getElementById(outputId);\n",
       "  outputElement.innerHTML = '';\n",
       "\n",
       "  const pickedPromise = new Promise((resolve) => {\n",
       "    inputElement.addEventListener('change', (e) => {\n",
       "      resolve(e.target.files);\n",
       "    });\n",
       "  });\n",
       "\n",
       "  const cancel = document.createElement('button');\n",
       "  inputElement.parentElement.appendChild(cancel);\n",
       "  cancel.textContent = 'Cancel upload';\n",
       "  const cancelPromise = new Promise((resolve) => {\n",
       "    cancel.onclick = () => {\n",
       "      resolve(null);\n",
       "    };\n",
       "  });\n",
       "\n",
       "  // Wait for the user to pick the files.\n",
       "  const files = yield {\n",
       "    promise: Promise.race([pickedPromise, cancelPromise]),\n",
       "    response: {\n",
       "      action: 'starting',\n",
       "    }\n",
       "  };\n",
       "\n",
       "  cancel.remove();\n",
       "\n",
       "  // Disable the input element since further picks are not allowed.\n",
       "  inputElement.disabled = true;\n",
       "\n",
       "  if (!files) {\n",
       "    return {\n",
       "      response: {\n",
       "        action: 'complete',\n",
       "      }\n",
       "    };\n",
       "  }\n",
       "\n",
       "  for (const file of files) {\n",
       "    const li = document.createElement('li');\n",
       "    li.append(span(file.name, {fontWeight: 'bold'}));\n",
       "    li.append(span(\n",
       "        `(${file.type || 'n/a'}) - ${file.size} bytes, ` +\n",
       "        `last modified: ${\n",
       "            file.lastModifiedDate ? file.lastModifiedDate.toLocaleDateString() :\n",
       "                                    'n/a'} - `));\n",
       "    const percent = span('0% done');\n",
       "    li.appendChild(percent);\n",
       "\n",
       "    outputElement.appendChild(li);\n",
       "\n",
       "    const fileDataPromise = new Promise((resolve) => {\n",
       "      const reader = new FileReader();\n",
       "      reader.onload = (e) => {\n",
       "        resolve(e.target.result);\n",
       "      };\n",
       "      reader.readAsArrayBuffer(file);\n",
       "    });\n",
       "    // Wait for the data to be ready.\n",
       "    let fileData = yield {\n",
       "      promise: fileDataPromise,\n",
       "      response: {\n",
       "        action: 'continue',\n",
       "      }\n",
       "    };\n",
       "\n",
       "    // Use a chunked sending to avoid message size limits. See b/62115660.\n",
       "    let position = 0;\n",
       "    do {\n",
       "      const length = Math.min(fileData.byteLength - position, MAX_PAYLOAD_SIZE);\n",
       "      const chunk = new Uint8Array(fileData, position, length);\n",
       "      position += length;\n",
       "\n",
       "      const base64 = btoa(String.fromCharCode.apply(null, chunk));\n",
       "      yield {\n",
       "        response: {\n",
       "          action: 'append',\n",
       "          file: file.name,\n",
       "          data: base64,\n",
       "        },\n",
       "      };\n",
       "\n",
       "      let percentDone = fileData.byteLength === 0 ?\n",
       "          100 :\n",
       "          Math.round((position / fileData.byteLength) * 100);\n",
       "      percent.textContent = `${percentDone}% done`;\n",
       "\n",
       "    } while (position < fileData.byteLength);\n",
       "  }\n",
       "\n",
       "  // All done.\n",
       "  yield {\n",
       "    response: {\n",
       "      action: 'complete',\n",
       "    }\n",
       "  };\n",
       "}\n",
       "\n",
       "scope.google = scope.google || {};\n",
       "scope.google.colab = scope.google.colab || {};\n",
       "scope.google.colab._files = {\n",
       "  _uploadFiles,\n",
       "  _uploadFilesContinue,\n",
       "};\n",
       "})(self);\n",
       "</script> "
      ],
      "text/plain": [
       "<IPython.core.display.HTML object>"
      ]
     },
     "metadata": {},
     "output_type": "display_data"
    },
    {
     "name": "stdout",
     "output_type": "stream",
     "text": [
      "Saving cam1.mkv to cam1.mkv\n",
      "Saving cam2.mkv to cam2.mkv\n",
      "Saving unified.mkv to unified.mkv\n"
     ]
    }
   ],
   "source": [
    "#Split the frames of the videos\n",
    "from google.colab import files\n",
    "uploaded = files.upload()  # Select cam1.mkv, cam2.mkv, unified.mkv"
   ]
  },
  {
   "cell_type": "code",
   "execution_count": null,
   "metadata": {
    "id": "HtYJ7XR9qWHg"
   },
   "outputs": [],
   "source": [
    "# Create clean images folders\n",
    "!mkdir -p /content/EasyMocap/intri_data/images\n",
    "!mkdir -p /content/EasyMocap/extri_data/images\n",
    "\n",
    "!mkdir -p /content/EasyMocap/intri_data/videos\n",
    "!mkdir -p /content/EasyMocap/extri_data/videos"
   ]
  },
  {
   "cell_type": "code",
   "execution_count": null,
   "metadata": {
    "colab": {
     "base_uri": "https://localhost:8080/"
    },
    "collapsed": true,
    "executionInfo": {
     "elapsed": 33421,
     "status": "ok",
     "timestamp": 1750771523530,
     "user": {
      "displayName": "Μαρία Πλουμιτσάκου",
      "userId": "09835486863166468211"
     },
     "user_tz": -120
    },
    "id": "lBXRyXWQ99WV",
    "outputId": "a59728a3-c5c0-4aeb-d625-324cafc11c53"
   },
   "outputs": [],
   "source": [
    "# === Split cam1.mkv (RIGHT side) -> intri_data/videos/cam1_right.mp4\n",
    "!ffmpeg -i cam1.mkv -filter:v \"crop=iw/2:ih:iw/2:0\" -c:a copy /content/EasyMocap/intri_data/videos/cam1.mp4\n",
    "\n",
    "# === Split cam2.mkv (LEFT side) -> intri_data/videos/cam2_left.mp4\n",
    "!ffmpeg -i cam2.mkv -filter:v \"crop=iw/2:ih:0:0\" -c:a copy /content/EasyMocap/intri_data/videos/cam2.mp4\n",
    "\n",
    "# === Split unified.mkv (RIGHT side) -> extri_data/videos/unified_1.mp4\n",
    "!ffmpeg -i unified.mkv -filter:v \"crop=iw/2:ih:iw/2:0\" -c:a copy /content/EasyMocap/extri_data/videos/cam1.mp4\n",
    "\n",
    "# === Split unified.mkv (LEFT side) -> extri_data/videos/unified_2.mp4\n",
    "!ffmpeg -i unified.mkv -filter:v \"crop=iw/2:ih:0:0\" -c:a copy /content/EasyMocap/extri_data/videos/cam2.mp4"
   ]
  },
  {
   "cell_type": "code",
   "execution_count": null,
   "metadata": {
    "colab": {
     "base_uri": "https://localhost:8080/"
    },
    "collapsed": true,
    "executionInfo": {
     "elapsed": 23811,
     "status": "ok",
     "timestamp": 1750771547343,
     "user": {
      "displayName": "Μαρία Πλουμιτσάκου",
      "userId": "09835486863166468211"
     },
     "user_tz": -120
    },
    "id": "rjzFoNGTETna",
    "outputId": "c65de696-d9d4-4fb8-8c6f-30a2110bb8f3"
   },
   "outputs": [
    {
     "name": "stdout",
     "output_type": "stream",
     "text": [
      "cam1.mp4  : 100% 458/458 [00:02<00:00, 206.50it/s]\n",
      "cam2.mp4  : 100% 949/949 [00:04<00:00, 198.67it/s]\n",
      "cameras:  cam1 cam2\n",
      "cam1.mp4  : 100% 1621/1621 [00:07<00:00, 207.94it/s]\n",
      "cam2.mp4  : 100% 1621/1621 [00:08<00:00, 193.31it/s]\n",
      "cameras:  cam1 cam2\n"
     ]
    }
   ],
   "source": [
    "# Extract frames for all videos (ignore --num, then trim manually)\n",
    "!python3 /content/EasyMocap/scripts/preprocess/extract_video.py /content/EasyMocap/intri_data --no2d\n",
    "!python3 /content/EasyMocap/scripts/preprocess/extract_video.py /content/EasyMocap/extri_data --no2d"
   ]
  },
  {
   "cell_type": "code",
   "execution_count": null,
   "metadata": {
    "id": "J8jv2jW5K8Xh"
   },
   "outputs": [],
   "source": [
    "%%bash\n",
    "for d in /content/EasyMocap/intri_data/images/*; do\n",
    "  ls \"$d\" | sort | tail -n +201 | sed \"s|^|$d/|\" | xargs rm -f\n",
    "done\n",
    "\n",
    "for d in /content/EasyMocap/extri_data/images/*; do\n",
    "  ls \"$d\" | sort | tail -n +201 | sed \"s|^|$d/|\" | xargs rm -f\n",
    "done\n"
   ]
  },
  {
   "cell_type": "code",
   "execution_count": null,
   "metadata": {
    "colab": {
     "base_uri": "https://localhost:8080/"
    },
    "collapsed": true,
    "executionInfo": {
     "elapsed": 7942,
     "status": "ok",
     "timestamp": 1750771555444,
     "user": {
      "displayName": "Μαρία Πλουμιτσάκου",
      "userId": "09835486863166468211"
     },
     "user_tz": -120
    },
    "id": "tO9oXMiSH7nO",
    "outputId": "ea2e12a1-207a-4021-a612-ebcd95643e6d"
   },
   "outputs": [
    {
     "name": "stdout",
     "output_type": "stream",
     "text": [
      "Create chessboard (8, 6)\n",
      "\rcreate template chessboard:   0% 0/400 [00:00<?, ?it/s]\rcreate template chessboard:  53% 212/400 [00:00<00:00, 2111.62it/s]\rcreate template chessboard: 100% 400/400 [00:00<00:00, 2129.67it/s]\n",
      "- Load data from /content/EasyMocap/intri_data\n",
      "- Try to find image names...\n",
      "  -> find 400 images\n",
      "- Try to find annot names...\n",
      "  -> find 400 annots\n",
      "Create chessboard (8, 6)\n",
      "create template chessboard: 100% 400/400 [00:00<00:00, 2145.95it/s]\n",
      "- Load data from /content/EasyMocap/extri_data\n",
      "- Try to find image names...\n",
      "  -> find 400 images\n",
      "- Try to find annot names...\n",
      "  -> find 400 annots\n"
     ]
    }
   ],
   "source": [
    "# INTRINSICS\n",
    "!PYTHONPATH=/content/EasyMocap python3 /content/EasyMocap/apps/calibration/detect_chessboard.py /content/EasyMocap/intri_data --out /content/EasyMocap/intri_data/output --pattern 8,6 --grid 0.024\n",
    "\n",
    "# EXTRINSICS\n",
    "!PYTHONPATH=/content/EasyMocap python3 /content/EasyMocap/apps/calibration/detect_chessboard.py /content/EasyMocap/extri_data --out /content/EasyMocap/extri_data/output --pattern 8,6 --grid 0.024\n"
   ]
  },
  {
   "cell_type": "code",
   "execution_count": null,
   "metadata": {
    "colab": {
     "base_uri": "https://localhost:8080/"
    },
    "collapsed": true,
    "executionInfo": {
     "elapsed": 123093,
     "status": "ok",
     "timestamp": 1750771678539,
     "user": {
      "displayName": "Μαρία Πλουμιτσάκου",
      "userId": "09835486863166468211"
     },
     "user_tz": -120
    },
    "id": "ykAN_yIAz9GU",
    "outputId": "8a2d3e66-6ccb-45a7-9687-4f6a2752ade6"
   },
   "outputs": [
    {
     "name": "stdout",
     "output_type": "stream",
     "text": [
      "\rread:   0% 0/200 [00:00<?, ?it/s]\rread: 100% 200/200 [00:00<00:00, 5665.95it/s]\n",
      "\u001b[32m[calibration] Load 200 images\u001b[0m\n",
      ">> Camera cam1: 200 frames\n",
      "-> [calibrate           ]:  64.0s\n",
      "read: 100% 200/200 [00:00<00:00, 5737.45it/s]\n",
      "\u001b[32m[calibration] Load 200 images\u001b[0m\n",
      ">> Camera cam2: 200 frames\n",
      "-> [calibrate           ]:  58.7s\n"
     ]
    }
   ],
   "source": [
    "# === Intrinsic Calibration ===\n",
    "!PYTHONPATH=/content/EasyMocap python3 /content/EasyMocap/apps/calibration/calib_intri.py /content/EasyMocap/intri_data"
   ]
  },
  {
   "cell_type": "code",
   "execution_count": null,
   "metadata": {
    "colab": {
     "base_uri": "https://localhost:8080/"
    },
    "collapsed": true,
    "executionInfo": {
     "elapsed": 312,
     "status": "ok",
     "timestamp": 1750771712926,
     "user": {
      "displayName": "Μαρία Πλουμιτσάκου",
      "userId": "09835486863166468211"
     },
     "user_tz": -120
    },
    "id": "OW3pom63DeUj",
    "outputId": "26aefd73-d469-4947-82da-9c86d94b4bab"
   },
   "outputs": [
    {
     "name": "stdout",
     "output_type": "stream",
     "text": [
      "cam1 center => [0.16149051 0.06480517 0.30780421], err = 0.322\n",
      "cam2 center => [-0.02143001 -0.26360351  0.22161923], err = 0.607\n"
     ]
    }
   ],
   "source": [
    "# === Extrinsic Calibration ===\n",
    "!PYTHONPATH=/content/EasyMocap python3 /content/EasyMocap/apps/calibration/calib_extri.py /content/EasyMocap/extri_data --intri /content/EasyMocap/intri_data/output/intri.yml"
   ]
  },
  {
   "cell_type": "code",
   "execution_count": null,
   "metadata": {
    "colab": {
     "base_uri": "https://localhost:8080/"
    },
    "collapsed": true,
    "executionInfo": {
     "elapsed": 316,
     "status": "ok",
     "timestamp": 1750771715926,
     "user": {
      "displayName": "Μαρία Πλουμιτσάκου",
      "userId": "09835486863166468211"
     },
     "user_tz": -120
    },
    "id": "Zke5WNlJfJd1",
    "outputId": "dcd53431-8419-4dc8-ece1-7de2af2bf53e"
   },
   "outputs": [
    {
     "name": "stdout",
     "output_type": "stream",
     "text": [
      "Check (8, 4) points\n",
      "[check] cameras:  ['cam1', 'cam2']\n",
      " - cam1: center = [[0.161 0.065 0.308]], look at = [[ 0.064  0.132 -0.685]]\n",
      " - cam2: center = [[-0.021 -0.264  0.222]], look at = [[ 0.021  0.546 -0.364]]\n"
     ]
    }
   ],
   "source": [
    "# === Check Calibration Results (with Chessboard) ===\n",
    "# !PYTHONPATH=/content/EasyMocap python3 /content/EasyMocap/apps/calibration/check_calib.py /content/EasyMocap/extri_data --out /content/EasyMocap/intri_data/output --vis --show\n",
    "!PYTHONPATH=/content/EasyMocap python3 /content/EasyMocap/apps/calibration/check_calib.py /content/EasyMocap/extri_data --out /content/EasyMocap/extri_data --mode cube --write"
   ]
  },
  {
   "cell_type": "code",
   "execution_count": null,
   "metadata": {
    "colab": {
     "base_uri": "https://localhost:8080/",
     "height": 73
    },
    "collapsed": true,
    "executionInfo": {
     "elapsed": 123287,
     "status": "ok",
     "timestamp": 1750759854343,
     "user": {
      "displayName": "Μαρία Πλουμιτσάκου",
      "userId": "09835486863166468211"
     },
     "user_tz": -120
    },
    "id": "I-lcwPqPaWRp",
    "outputId": "7f7f3b2a-c179-4003-fc67-a2aa84e74a37"
   },
   "outputs": [
    {
     "data": {
      "text/html": [
       "\n",
       "     <input type=\"file\" id=\"files-f2c9573c-71c3-450b-b267-a30ae52355ed\" name=\"files[]\" multiple disabled\n",
       "        style=\"border:none\" />\n",
       "     <output id=\"result-f2c9573c-71c3-450b-b267-a30ae52355ed\">\n",
       "      Upload widget is only available when the cell has been executed in the\n",
       "      current browser session. Please rerun this cell to enable.\n",
       "      </output>\n",
       "      <script>// Copyright 2017 Google LLC\n",
       "//\n",
       "// Licensed under the Apache License, Version 2.0 (the \"License\");\n",
       "// you may not use this file except in compliance with the License.\n",
       "// You may obtain a copy of the License at\n",
       "//\n",
       "//      http://www.apache.org/licenses/LICENSE-2.0\n",
       "//\n",
       "// Unless required by applicable law or agreed to in writing, software\n",
       "// distributed under the License is distributed on an \"AS IS\" BASIS,\n",
       "// WITHOUT WARRANTIES OR CONDITIONS OF ANY KIND, either express or implied.\n",
       "// See the License for the specific language governing permissions and\n",
       "// limitations under the License.\n",
       "\n",
       "/**\n",
       " * @fileoverview Helpers for google.colab Python module.\n",
       " */\n",
       "(function(scope) {\n",
       "function span(text, styleAttributes = {}) {\n",
       "  const element = document.createElement('span');\n",
       "  element.textContent = text;\n",
       "  for (const key of Object.keys(styleAttributes)) {\n",
       "    element.style[key] = styleAttributes[key];\n",
       "  }\n",
       "  return element;\n",
       "}\n",
       "\n",
       "// Max number of bytes which will be uploaded at a time.\n",
       "const MAX_PAYLOAD_SIZE = 100 * 1024;\n",
       "\n",
       "function _uploadFiles(inputId, outputId) {\n",
       "  const steps = uploadFilesStep(inputId, outputId);\n",
       "  const outputElement = document.getElementById(outputId);\n",
       "  // Cache steps on the outputElement to make it available for the next call\n",
       "  // to uploadFilesContinue from Python.\n",
       "  outputElement.steps = steps;\n",
       "\n",
       "  return _uploadFilesContinue(outputId);\n",
       "}\n",
       "\n",
       "// This is roughly an async generator (not supported in the browser yet),\n",
       "// where there are multiple asynchronous steps and the Python side is going\n",
       "// to poll for completion of each step.\n",
       "// This uses a Promise to block the python side on completion of each step,\n",
       "// then passes the result of the previous step as the input to the next step.\n",
       "function _uploadFilesContinue(outputId) {\n",
       "  const outputElement = document.getElementById(outputId);\n",
       "  const steps = outputElement.steps;\n",
       "\n",
       "  const next = steps.next(outputElement.lastPromiseValue);\n",
       "  return Promise.resolve(next.value.promise).then((value) => {\n",
       "    // Cache the last promise value to make it available to the next\n",
       "    // step of the generator.\n",
       "    outputElement.lastPromiseValue = value;\n",
       "    return next.value.response;\n",
       "  });\n",
       "}\n",
       "\n",
       "/**\n",
       " * Generator function which is called between each async step of the upload\n",
       " * process.\n",
       " * @param {string} inputId Element ID of the input file picker element.\n",
       " * @param {string} outputId Element ID of the output display.\n",
       " * @return {!Iterable<!Object>} Iterable of next steps.\n",
       " */\n",
       "function* uploadFilesStep(inputId, outputId) {\n",
       "  const inputElement = document.getElementById(inputId);\n",
       "  inputElement.disabled = false;\n",
       "\n",
       "  const outputElement = document.getElementById(outputId);\n",
       "  outputElement.innerHTML = '';\n",
       "\n",
       "  const pickedPromise = new Promise((resolve) => {\n",
       "    inputElement.addEventListener('change', (e) => {\n",
       "      resolve(e.target.files);\n",
       "    });\n",
       "  });\n",
       "\n",
       "  const cancel = document.createElement('button');\n",
       "  inputElement.parentElement.appendChild(cancel);\n",
       "  cancel.textContent = 'Cancel upload';\n",
       "  const cancelPromise = new Promise((resolve) => {\n",
       "    cancel.onclick = () => {\n",
       "      resolve(null);\n",
       "    };\n",
       "  });\n",
       "\n",
       "  // Wait for the user to pick the files.\n",
       "  const files = yield {\n",
       "    promise: Promise.race([pickedPromise, cancelPromise]),\n",
       "    response: {\n",
       "      action: 'starting',\n",
       "    }\n",
       "  };\n",
       "\n",
       "  cancel.remove();\n",
       "\n",
       "  // Disable the input element since further picks are not allowed.\n",
       "  inputElement.disabled = true;\n",
       "\n",
       "  if (!files) {\n",
       "    return {\n",
       "      response: {\n",
       "        action: 'complete',\n",
       "      }\n",
       "    };\n",
       "  }\n",
       "\n",
       "  for (const file of files) {\n",
       "    const li = document.createElement('li');\n",
       "    li.append(span(file.name, {fontWeight: 'bold'}));\n",
       "    li.append(span(\n",
       "        `(${file.type || 'n/a'}) - ${file.size} bytes, ` +\n",
       "        `last modified: ${\n",
       "            file.lastModifiedDate ? file.lastModifiedDate.toLocaleDateString() :\n",
       "                                    'n/a'} - `));\n",
       "    const percent = span('0% done');\n",
       "    li.appendChild(percent);\n",
       "\n",
       "    outputElement.appendChild(li);\n",
       "\n",
       "    const fileDataPromise = new Promise((resolve) => {\n",
       "      const reader = new FileReader();\n",
       "      reader.onload = (e) => {\n",
       "        resolve(e.target.result);\n",
       "      };\n",
       "      reader.readAsArrayBuffer(file);\n",
       "    });\n",
       "    // Wait for the data to be ready.\n",
       "    let fileData = yield {\n",
       "      promise: fileDataPromise,\n",
       "      response: {\n",
       "        action: 'continue',\n",
       "      }\n",
       "    };\n",
       "\n",
       "    // Use a chunked sending to avoid message size limits. See b/62115660.\n",
       "    let position = 0;\n",
       "    do {\n",
       "      const length = Math.min(fileData.byteLength - position, MAX_PAYLOAD_SIZE);\n",
       "      const chunk = new Uint8Array(fileData, position, length);\n",
       "      position += length;\n",
       "\n",
       "      const base64 = btoa(String.fromCharCode.apply(null, chunk));\n",
       "      yield {\n",
       "        response: {\n",
       "          action: 'append',\n",
       "          file: file.name,\n",
       "          data: base64,\n",
       "        },\n",
       "      };\n",
       "\n",
       "      let percentDone = fileData.byteLength === 0 ?\n",
       "          100 :\n",
       "          Math.round((position / fileData.byteLength) * 100);\n",
       "      percent.textContent = `${percentDone}% done`;\n",
       "\n",
       "    } while (position < fileData.byteLength);\n",
       "  }\n",
       "\n",
       "  // All done.\n",
       "  yield {\n",
       "    response: {\n",
       "      action: 'complete',\n",
       "    }\n",
       "  };\n",
       "}\n",
       "\n",
       "scope.google = scope.google || {};\n",
       "scope.google.colab = scope.google.colab || {};\n",
       "scope.google.colab._files = {\n",
       "  _uploadFiles,\n",
       "  _uploadFilesContinue,\n",
       "};\n",
       "})(self);\n",
       "</script> "
      ],
      "text/plain": [
       "<IPython.core.display.HTML object>"
      ]
     },
     "metadata": {},
     "output_type": "display_data"
    },
    {
     "name": "stdout",
     "output_type": "stream",
     "text": [
      "Saving patient_1.mp4 to patient_1.mp4\n"
     ]
    }
   ],
   "source": [
    "#Upload the video and split it\n",
    "from google.colab import files\n",
    "uploaded = files.upload()"
   ]
  },
  {
   "cell_type": "code",
   "execution_count": null,
   "metadata": {
    "id": "HI-bQtOxAdKD"
   },
   "outputs": [],
   "source": [
    "!mv /content/EasyMocap/patient_1.mp4 /content/"
   ]
  },
  {
   "cell_type": "code",
   "execution_count": null,
   "metadata": {
    "colab": {
     "base_uri": "https://localhost:8080/"
    },
    "collapsed": true,
    "executionInfo": {
     "elapsed": 10469,
     "status": "ok",
     "timestamp": 1750759937702,
     "user": {
      "displayName": "Μαρία Πλουμιτσάκου",
      "userId": "09835486863166468211"
     },
     "user_tz": -120
    },
    "id": "x-t4sSPJbuKB",
    "outputId": "67c70bbe-46d9-4147-e089-9da14508556e"
   },
   "outputs": [
    {
     "name": "stdout",
     "output_type": "stream",
     "text": [
      "ffmpeg version 4.4.2-0ubuntu0.22.04.1 Copyright (c) 2000-2021 the FFmpeg developers\n",
      "  built with gcc 11 (Ubuntu 11.2.0-19ubuntu1)\n",
      "  configuration: --prefix=/usr --extra-version=0ubuntu0.22.04.1 --toolchain=hardened --libdir=/usr/lib/x86_64-linux-gnu --incdir=/usr/include/x86_64-linux-gnu --arch=amd64 --enable-gpl --disable-stripping --enable-gnutls --enable-ladspa --enable-libaom --enable-libass --enable-libbluray --enable-libbs2b --enable-libcaca --enable-libcdio --enable-libcodec2 --enable-libdav1d --enable-libflite --enable-libfontconfig --enable-libfreetype --enable-libfribidi --enable-libgme --enable-libgsm --enable-libjack --enable-libmp3lame --enable-libmysofa --enable-libopenjpeg --enable-libopenmpt --enable-libopus --enable-libpulse --enable-librabbitmq --enable-librubberband --enable-libshine --enable-libsnappy --enable-libsoxr --enable-libspeex --enable-libsrt --enable-libssh --enable-libtheora --enable-libtwolame --enable-libvidstab --enable-libvorbis --enable-libvpx --enable-libwebp --enable-libx265 --enable-libxml2 --enable-libxvid --enable-libzimg --enable-libzmq --enable-libzvbi --enable-lv2 --enable-omx --enable-openal --enable-opencl --enable-opengl --enable-sdl2 --enable-pocketsphinx --enable-librsvg --enable-libmfx --enable-libdc1394 --enable-libdrm --enable-libiec61883 --enable-chromaprint --enable-frei0r --enable-libx264 --enable-shared\n",
      "  libavutil      56. 70.100 / 56. 70.100\n",
      "  libavcodec     58.134.100 / 58.134.100\n",
      "  libavformat    58. 76.100 / 58. 76.100\n",
      "  libavdevice    58. 13.100 / 58. 13.100\n",
      "  libavfilter     7.110.100 /  7.110.100\n",
      "  libswscale      5.  9.100 /  5.  9.100\n",
      "  libswresample   3.  9.100 /  3.  9.100\n",
      "  libpostproc    55.  9.100 / 55.  9.100\n",
      "Input #0, mov,mp4,m4a,3gp,3g2,mj2, from '/content/patient_1.mp4':\n",
      "  Metadata:\n",
      "    major_brand     : isom\n",
      "    minor_version   : 512\n",
      "    compatible_brands: isomiso2avc1mp41\n",
      "    encoder         : https://clipchamp.com\n",
      "    comment         : Create videos with https://clipchamp.com/en/video-editor - free online video editor, video compressor, video converter.\n",
      "  Duration: 00:00:20.78, start: 0.000000, bitrate: 20300 kb/s\n",
      "  Stream #0:0(und): Video: h264 (Main) (avc1 / 0x31637661), yuv420p(tv), 1920x1080 [SAR 1:1 DAR 16:9], 20143 kb/s, 30 fps, 30 tbr, 15360 tbn, 60 tbc (default)\n",
      "    Metadata:\n",
      "      handler_name    : VideoHandler\n",
      "      vendor_id       : [0][0][0][0]\n",
      "  Stream #0:1(und): Audio: aac (LC) (mp4a / 0x6134706D), 48000 Hz, stereo, fltp, 192 kb/s (default)\n",
      "    Metadata:\n",
      "      handler_name    : SoundHandler\n",
      "      vendor_id       : [0][0][0][0]\n",
      "Stream mapping:\n",
      "  Stream #0:0 -> #0:0 (h264 (native) -> h264 (libx264))\n",
      "  Stream #0:1 -> #0:1 (copy)\n",
      "Press [q] to stop, [?] for help\n",
      "\u001b[1;36m[libx264 @ 0x5bf7d36bfb40] \u001b[0musing SAR=1/1\n",
      "\u001b[1;36m[libx264 @ 0x5bf7d36bfb40] \u001b[0musing cpu capabilities: MMX2 SSE2Fast SSSE3 SSE4.2 AVX FMA3 BMI2 AVX2 AVX512\n",
      "\u001b[1;36m[libx264 @ 0x5bf7d36bfb40] \u001b[0mprofile High, level 3.2, 4:2:0, 8-bit\n",
      "\u001b[1;36m[libx264 @ 0x5bf7d36bfb40] \u001b[0m264 - core 163 r3060 5db6aa6 - H.264/MPEG-4 AVC codec - Copyleft 2003-2021 - http://www.videolan.org/x264.html - options: cabac=1 ref=3 deblock=1:0:0 analyse=0x3:0x113 me=hex subme=7 psy=1 psy_rd=1.00:0.00 mixed_ref=1 me_range=16 chroma_me=1 trellis=1 8x8dct=1 cqm=0 deadzone=21,11 fast_pskip=1 chroma_qp_offset=-2 threads=18 lookahead_threads=3 sliced_threads=0 nr=0 decimate=1 interlaced=0 bluray_compat=0 constrained_intra=0 bframes=3 b_pyramid=2 b_adapt=1 b_bias=0 direct=1 weightb=1 open_gop=0 weightp=2 keyint=250 keyint_min=25 scenecut=40 intra_refresh=0 rc_lookahead=40 rc=crf mbtree=1 crf=23.0 qcomp=0.60 qpmin=0 qpmax=69 qpstep=4 ip_ratio=1.40 aq=1:1.00\n",
      "Output #0, mp4, to '/content/hand2.mp4':\n",
      "  Metadata:\n",
      "    major_brand     : isom\n",
      "    minor_version   : 512\n",
      "    compatible_brands: isomiso2avc1mp41\n",
      "    comment         : Create videos with https://clipchamp.com/en/video-editor - free online video editor, video compressor, video converter.\n",
      "    encoder         : Lavf58.76.100\n",
      "  Stream #0:0(und): Video: h264 (avc1 / 0x31637661), yuv420p(tv, progressive), 960x1080 [SAR 1:1 DAR 8:9], q=2-31, 30 fps, 15360 tbn (default)\n",
      "    Metadata:\n",
      "      handler_name    : VideoHandler\n",
      "      vendor_id       : [0][0][0][0]\n",
      "      encoder         : Lavc58.134.100 libx264\n",
      "    Side data:\n",
      "      cpb: bitrate max/min/avg: 0/0/0 buffer size: 0 vbv_delay: N/A\n",
      "  Stream #0:1(und): Audio: aac (LC) (mp4a / 0x6134706D), 48000 Hz, stereo, fltp, 192 kb/s (default)\n",
      "    Metadata:\n",
      "      handler_name    : SoundHandler\n",
      "      vendor_id       : [0][0][0][0]\n",
      "frame=  622 fps=131 q=-1.0 Lsize=    2320kB time=00:00:20.71 bitrate= 917.5kbits/s speed=4.36x    \n",
      "video:1813kB audio:487kB subtitle:0kB other streams:0kB global headers:0kB muxing overhead: 0.869346%\n",
      "\u001b[1;36m[libx264 @ 0x5bf7d36bfb40] \u001b[0mframe I:3     Avg QP:15.82  size: 32717\n",
      "\u001b[1;36m[libx264 @ 0x5bf7d36bfb40] \u001b[0mframe P:158   Avg QP:17.55  size:  7438\n",
      "\u001b[1;36m[libx264 @ 0x5bf7d36bfb40] \u001b[0mframe B:461   Avg QP:20.21  size:  1264\n",
      "\u001b[1;36m[libx264 @ 0x5bf7d36bfb40] \u001b[0mconsecutive B-frames:  0.8%  0.0%  3.4% 95.8%\n",
      "\u001b[1;36m[libx264 @ 0x5bf7d36bfb40] \u001b[0mmb I  I16..4: 40.5% 47.8% 11.7%\n",
      "\u001b[1;36m[libx264 @ 0x5bf7d36bfb40] \u001b[0mmb P  I16..4:  2.1%  2.8%  0.1%  P16..4: 31.6%  5.9%  3.8%  0.0%  0.0%    skip:53.6%\n",
      "\u001b[1;36m[libx264 @ 0x5bf7d36bfb40] \u001b[0mmb B  I16..4:  0.1%  0.1%  0.0%  B16..8: 19.6%  0.3%  0.0%  direct: 0.7%  skip:79.3%  L0:46.4% L1:52.9% BI: 0.6%\n",
      "\u001b[1;36m[libx264 @ 0x5bf7d36bfb40] \u001b[0m8x8 transform intra:52.6% inter:89.1%\n",
      "\u001b[1;36m[libx264 @ 0x5bf7d36bfb40] \u001b[0mcoded y,uvDC,uvAC intra: 32.0% 71.5% 15.6% inter: 4.0% 9.2% 0.0%\n",
      "\u001b[1;36m[libx264 @ 0x5bf7d36bfb40] \u001b[0mi16 v,h,dc,p: 45% 27% 16% 12%\n",
      "\u001b[1;36m[libx264 @ 0x5bf7d36bfb40] \u001b[0mi8 v,h,dc,ddl,ddr,vr,hd,vl,hu: 17% 17% 46%  2%  4%  4%  4%  3%  3%\n",
      "\u001b[1;36m[libx264 @ 0x5bf7d36bfb40] \u001b[0mi4 v,h,dc,ddl,ddr,vr,hd,vl,hu: 31% 24% 16%  4%  6%  6%  6%  4%  3%\n",
      "\u001b[1;36m[libx264 @ 0x5bf7d36bfb40] \u001b[0mi8c dc,h,v,p: 58% 22% 17%  2%\n",
      "\u001b[1;36m[libx264 @ 0x5bf7d36bfb40] \u001b[0mWeighted P-Frames: Y:0.0% UV:0.0%\n",
      "\u001b[1;36m[libx264 @ 0x5bf7d36bfb40] \u001b[0mref P L0: 59.5% 10.1% 21.3%  9.0%\n",
      "\u001b[1;36m[libx264 @ 0x5bf7d36bfb40] \u001b[0mref B L0: 88.6%  8.8%  2.6%\n",
      "\u001b[1;36m[libx264 @ 0x5bf7d36bfb40] \u001b[0mref B L1: 95.3%  4.7%\n",
      "\u001b[1;36m[libx264 @ 0x5bf7d36bfb40] \u001b[0mkb/s:716.08\n",
      "ffmpeg version 4.4.2-0ubuntu0.22.04.1 Copyright (c) 2000-2021 the FFmpeg developers\n",
      "  built with gcc 11 (Ubuntu 11.2.0-19ubuntu1)\n",
      "  configuration: --prefix=/usr --extra-version=0ubuntu0.22.04.1 --toolchain=hardened --libdir=/usr/lib/x86_64-linux-gnu --incdir=/usr/include/x86_64-linux-gnu --arch=amd64 --enable-gpl --disable-stripping --enable-gnutls --enable-ladspa --enable-libaom --enable-libass --enable-libbluray --enable-libbs2b --enable-libcaca --enable-libcdio --enable-libcodec2 --enable-libdav1d --enable-libflite --enable-libfontconfig --enable-libfreetype --enable-libfribidi --enable-libgme --enable-libgsm --enable-libjack --enable-libmp3lame --enable-libmysofa --enable-libopenjpeg --enable-libopenmpt --enable-libopus --enable-libpulse --enable-librabbitmq --enable-librubberband --enable-libshine --enable-libsnappy --enable-libsoxr --enable-libspeex --enable-libsrt --enable-libssh --enable-libtheora --enable-libtwolame --enable-libvidstab --enable-libvorbis --enable-libvpx --enable-libwebp --enable-libx265 --enable-libxml2 --enable-libxvid --enable-libzimg --enable-libzmq --enable-libzvbi --enable-lv2 --enable-omx --enable-openal --enable-opencl --enable-opengl --enable-sdl2 --enable-pocketsphinx --enable-librsvg --enable-libmfx --enable-libdc1394 --enable-libdrm --enable-libiec61883 --enable-chromaprint --enable-frei0r --enable-libx264 --enable-shared\n",
      "  libavutil      56. 70.100 / 56. 70.100\n",
      "  libavcodec     58.134.100 / 58.134.100\n",
      "  libavformat    58. 76.100 / 58. 76.100\n",
      "  libavdevice    58. 13.100 / 58. 13.100\n",
      "  libavfilter     7.110.100 /  7.110.100\n",
      "  libswscale      5.  9.100 /  5.  9.100\n",
      "  libswresample   3.  9.100 /  3.  9.100\n",
      "  libpostproc    55.  9.100 / 55.  9.100\n",
      "Input #0, mov,mp4,m4a,3gp,3g2,mj2, from '/content/patient_1.mp4':\n",
      "  Metadata:\n",
      "    major_brand     : isom\n",
      "    minor_version   : 512\n",
      "    compatible_brands: isomiso2avc1mp41\n",
      "    encoder         : https://clipchamp.com\n",
      "    comment         : Create videos with https://clipchamp.com/en/video-editor - free online video editor, video compressor, video converter.\n",
      "  Duration: 00:00:20.78, start: 0.000000, bitrate: 20300 kb/s\n",
      "  Stream #0:0(und): Video: h264 (Main) (avc1 / 0x31637661), yuv420p(tv), 1920x1080 [SAR 1:1 DAR 16:9], 20143 kb/s, 30 fps, 30 tbr, 15360 tbn, 60 tbc (default)\n",
      "    Metadata:\n",
      "      handler_name    : VideoHandler\n",
      "      vendor_id       : [0][0][0][0]\n",
      "  Stream #0:1(und): Audio: aac (LC) (mp4a / 0x6134706D), 48000 Hz, stereo, fltp, 192 kb/s (default)\n",
      "    Metadata:\n",
      "      handler_name    : SoundHandler\n",
      "      vendor_id       : [0][0][0][0]\n",
      "Stream mapping:\n",
      "  Stream #0:0 -> #0:0 (h264 (native) -> h264 (libx264))\n",
      "  Stream #0:1 -> #0:1 (copy)\n",
      "Press [q] to stop, [?] for help\n",
      "\u001b[1;36m[libx264 @ 0x59ed19544b40] \u001b[0musing SAR=1/1\n",
      "\u001b[1;36m[libx264 @ 0x59ed19544b40] \u001b[0musing cpu capabilities: MMX2 SSE2Fast SSSE3 SSE4.2 AVX FMA3 BMI2 AVX2 AVX512\n",
      "\u001b[1;36m[libx264 @ 0x59ed19544b40] \u001b[0mprofile High, level 3.2, 4:2:0, 8-bit\n",
      "\u001b[1;36m[libx264 @ 0x59ed19544b40] \u001b[0m264 - core 163 r3060 5db6aa6 - H.264/MPEG-4 AVC codec - Copyleft 2003-2021 - http://www.videolan.org/x264.html - options: cabac=1 ref=3 deblock=1:0:0 analyse=0x3:0x113 me=hex subme=7 psy=1 psy_rd=1.00:0.00 mixed_ref=1 me_range=16 chroma_me=1 trellis=1 8x8dct=1 cqm=0 deadzone=21,11 fast_pskip=1 chroma_qp_offset=-2 threads=18 lookahead_threads=3 sliced_threads=0 nr=0 decimate=1 interlaced=0 bluray_compat=0 constrained_intra=0 bframes=3 b_pyramid=2 b_adapt=1 b_bias=0 direct=1 weightb=1 open_gop=0 weightp=2 keyint=250 keyint_min=25 scenecut=40 intra_refresh=0 rc_lookahead=40 rc=crf mbtree=1 crf=23.0 qcomp=0.60 qpmin=0 qpmax=69 qpstep=4 ip_ratio=1.40 aq=1:1.00\n",
      "Output #0, mp4, to '/content/hand1.mp4':\n",
      "  Metadata:\n",
      "    major_brand     : isom\n",
      "    minor_version   : 512\n",
      "    compatible_brands: isomiso2avc1mp41\n",
      "    comment         : Create videos with https://clipchamp.com/en/video-editor - free online video editor, video compressor, video converter.\n",
      "    encoder         : Lavf58.76.100\n",
      "  Stream #0:0(und): Video: h264 (avc1 / 0x31637661), yuv420p(tv, progressive), 960x1080 [SAR 1:1 DAR 8:9], q=2-31, 30 fps, 15360 tbn (default)\n",
      "    Metadata:\n",
      "      handler_name    : VideoHandler\n",
      "      vendor_id       : [0][0][0][0]\n",
      "      encoder         : Lavc58.134.100 libx264\n",
      "    Side data:\n",
      "      cpb: bitrate max/min/avg: 0/0/0 buffer size: 0 vbv_delay: N/A\n",
      "  Stream #0:1(und): Audio: aac (LC) (mp4a / 0x6134706D), 48000 Hz, stereo, fltp, 192 kb/s (default)\n",
      "    Metadata:\n",
      "      handler_name    : SoundHandler\n",
      "      vendor_id       : [0][0][0][0]\n",
      "frame=  622 fps=138 q=-1.0 Lsize=    2010kB time=00:00:20.71 bitrate= 795.0kbits/s speed=4.59x    \n",
      "video:1503kB audio:487kB subtitle:0kB other streams:0kB global headers:0kB muxing overhead: 1.000631%\n",
      "\u001b[1;36m[libx264 @ 0x59ed19544b40] \u001b[0mframe I:3     Avg QP:15.78  size: 39791\n",
      "\u001b[1;36m[libx264 @ 0x59ed19544b40] \u001b[0mframe P:167   Avg QP:17.48  size:  6158\n",
      "\u001b[1;36m[libx264 @ 0x59ed19544b40] \u001b[0mframe B:452   Avg QP:20.14  size:   865\n",
      "\u001b[1;36m[libx264 @ 0x59ed19544b40] \u001b[0mconsecutive B-frames:  1.9%  1.0%  7.7% 89.4%\n",
      "\u001b[1;36m[libx264 @ 0x59ed19544b40] \u001b[0mmb I  I16..4: 42.9% 41.7% 15.3%\n",
      "\u001b[1;36m[libx264 @ 0x59ed19544b40] \u001b[0mmb P  I16..4:  1.3%  1.7%  0.1%  P16..4: 25.4%  5.1%  3.7%  0.0%  0.0%    skip:62.7%\n",
      "\u001b[1;36m[libx264 @ 0x59ed19544b40] \u001b[0mmb B  I16..4:  0.0%  0.0%  0.0%  B16..8: 16.1%  0.2%  0.0%  direct: 0.2%  skip:83.4%  L0:43.6% L1:55.8% BI: 0.6%\n",
      "\u001b[1;36m[libx264 @ 0x59ed19544b40] \u001b[0m8x8 transform intra:49.4% inter:83.2%\n",
      "\u001b[1;36m[libx264 @ 0x59ed19544b40] \u001b[0mcoded y,uvDC,uvAC intra: 36.9% 62.4% 13.7% inter: 3.2% 5.4% 0.0%\n",
      "\u001b[1;36m[libx264 @ 0x59ed19544b40] \u001b[0mi16 v,h,dc,p: 45% 25% 14% 16%\n",
      "\u001b[1;36m[libx264 @ 0x59ed19544b40] \u001b[0mi8 v,h,dc,ddl,ddr,vr,hd,vl,hu: 18% 22% 36%  3%  4%  4%  5%  4%  5%\n",
      "\u001b[1;36m[libx264 @ 0x59ed19544b40] \u001b[0mi4 v,h,dc,ddl,ddr,vr,hd,vl,hu: 25% 26% 15%  5%  7%  5%  7%  5%  5%\n",
      "\u001b[1;36m[libx264 @ 0x59ed19544b40] \u001b[0mi8c dc,h,v,p: 58% 21% 18%  3%\n",
      "\u001b[1;36m[libx264 @ 0x59ed19544b40] \u001b[0mWeighted P-Frames: Y:0.0% UV:0.0%\n",
      "\u001b[1;36m[libx264 @ 0x59ed19544b40] \u001b[0mref P L0: 64.9%  9.5% 18.3%  7.2%\n",
      "\u001b[1;36m[libx264 @ 0x59ed19544b40] \u001b[0mref B L0: 90.1%  7.9%  1.9%\n",
      "\u001b[1;36m[libx264 @ 0x59ed19544b40] \u001b[0mref B L1: 95.8%  4.2%\n",
      "\u001b[1;36m[libx264 @ 0x59ed19544b40] \u001b[0mkb/s:593.76\n"
     ]
    }
   ],
   "source": [
    "# Split into left and right halves\n",
    "!ffmpeg -i /content/patient_1.mp4 -filter:v \"crop=iw/2:ih:0:0\" -c:a copy /content/hand2.mp4 #Left half\n",
    "!ffmpeg -i /content/patient_1.mp4 -filter:v \"crop=iw/2:ih:iw/2:0\" -c:a copy /content/hand1.mp4 #Right half"
   ]
  },
  {
   "cell_type": "code",
   "execution_count": null,
   "metadata": {
    "id": "gKGcGYGicH2i"
   },
   "outputs": [],
   "source": [
    "# Extract the first 200 frames of the videos\n",
    "import cv2\n",
    "import os\n",
    "\n",
    "def extract_frames(video_path, out_dir, max_frames=200):\n",
    "    os.makedirs(out_dir, exist_ok=True)\n",
    "    cap = cv2.VideoCapture(video_path)\n",
    "    idx = 0\n",
    "    while cap.isOpened() and idx < max_frames:\n",
    "        ret, frame = cap.read()\n",
    "        if not ret:\n",
    "            break\n",
    "        cv2.imwrite(os.path.join(out_dir, f\"frame_{idx:05d}.jpg\"), frame)\n",
    "        idx += 1\n",
    "    cap.release()\n",
    "\n",
    "# Extract up to 200 frames from each video\n",
    "extract_frames('hand1.mp4', 'frames/hand1', max_frames=200)\n",
    "extract_frames('hand2.mp4', 'frames/hand2', max_frames=200)"
   ]
  },
  {
   "cell_type": "code",
   "execution_count": null,
   "metadata": {
    "colab": {
     "base_uri": "https://localhost:8080/"
    },
    "collapsed": true,
    "executionInfo": {
     "elapsed": 2898423,
     "status": "ok",
     "timestamp": 1750767911228,
     "user": {
      "displayName": "Μαρία Πλουμιτσάκου",
      "userId": "09835486863166468211"
     },
     "user_tz": -120
    },
    "id": "MLiWrkWDuXp5",
    "outputId": "f1f9b2a0-6204-46af-8927-1671f283728d"
   },
   "outputs": [],
   "source": [
    "!pip install 'mmcv>=2.0.1' -f https://download.openmmlab.com/mmcv/dist/cu118/torch2.7.1/index.html"
   ]
  },
  {
   "cell_type": "code",
   "execution_count": null,
   "metadata": {
    "colab": {
     "base_uri": "https://localhost:8080/",
     "height": 1000
    },
    "collapsed": true,
    "executionInfo": {
     "elapsed": 110438,
     "status": "ok",
     "timestamp": 1750768971790,
     "user": {
      "displayName": "Μαρία Πλουμιτσάκου",
      "userId": "09835486863166468211"
     },
     "user_tz": -120
    },
    "id": "ivA9gvgmaNCv",
    "outputId": "6f98db8f-af9d-44b9-a751-6cdb116db8a6"
   },
   "outputs": [],
   "source": [
    "# Install MMpose and MMDetection\n",
    "!pip3 install openmim\n",
    "!mim install mmengine\n",
    "!mim install \"mmdet>=3.1.0\"\n",
    "!mim install \"mmpose>=1.1.0\""
   ]
  },
  {
   "cell_type": "code",
   "execution_count": null,
   "metadata": {
    "colab": {
     "base_uri": "https://localhost:8080/"
    },
    "executionInfo": {
     "elapsed": 7,
     "status": "ok",
     "timestamp": 1750769544191,
     "user": {
      "displayName": "Μαρία Πλουμιτσάκου",
      "userId": "09835486863166468211"
     },
     "user_tz": -120
    },
    "id": "l7UTswh59G25",
    "outputId": "412e2ee1-7198-4644-98e9-e2ee957df3fa"
   },
   "outputs": [
    {
     "name": "stdout",
     "output_type": "stream",
     "text": [
      "1.3.2\n",
      "0.10.7\n",
      "2.2.0\n"
     ]
    }
   ],
   "source": [
    "import mmpose\n",
    "import mmengine\n",
    "import mmcv\n",
    "print(mmpose.__version__)\n",
    "print (mmengine.__version__)\n",
    "print (mmcv.__version__)"
   ]
  },
  {
   "cell_type": "code",
   "execution_count": null,
   "metadata": {
    "colab": {
     "base_uri": "https://localhost:8080/"
    },
    "executionInfo": {
     "elapsed": 16569,
     "status": "ok",
     "timestamp": 1750769771154,
     "user": {
      "displayName": "Μαρία Πλουμιτσάκου",
      "userId": "09835486863166468211"
     },
     "user_tz": -120
    },
    "id": "HRDH4VHm8U0i",
    "outputId": "cfef6405-fdbe-4daf-fc31-13b392998b12"
   },
   "outputs": [
    {
     "name": "stdout",
     "output_type": "stream",
     "text": [
      "processing td-hm_hrnet-w48_8xb32-210e_coco-256x192...\n",
      "\u001b[2Kdownloading \u001b[90m━━━━━━━━━━━━━━━━━━━━━━━━━━━━━━\u001b[0m \u001b[32m256.7/256.7 MiB\u001b[0m \u001b[31m23.2 MB/s\u001b[0m eta \u001b[36m0:00:00\u001b[0m\n",
      "\u001b[?25h\u001b[32mSuccessfully downloaded td-hm_hrnet-w48_8xb32-210e_coco-256x192-0e67c616_20220913.pth to /content\u001b[0m\n",
      "\u001b[32mSuccessfully dumped td-hm_hrnet-w48_8xb32-210e_coco-256x192.py to /content\u001b[0m\n"
     ]
    }
   ],
   "source": [
    "!mim download mmpose --config td-hm_hrnet-w48_8xb32-210e_coco-256x192  --dest ."
   ]
  },
  {
   "cell_type": "code",
   "execution_count": null,
   "metadata": {
    "colab": {
     "base_uri": "https://localhost:8080/",
     "height": 408
    },
    "collapsed": true,
    "executionInfo": {
     "elapsed": 6742,
     "status": "error",
     "timestamp": 1750770046606,
     "user": {
      "displayName": "Μαρία Πλουμιτσάκου",
      "userId": "09835486863166468211"
     },
     "user_tz": -120
    },
    "id": "FaFdLEI3cUAN",
    "outputId": "11133028-eec8-4261-8722-aba1ab5cca2d"
   },
   "outputs": [],
   "source": [
    "from mmpose.apis import inference_topdown, init_model\n",
    "import numpy as np\n",
    "\n",
    "register_all_modules()\n",
    "\n",
    "config_file = 'td-hm_hrnet-w48_8xb32-210e_coco-256x192.py'\n",
    "checkpoint_file = 'td-hm_hrnet-w48_8xb32-210e_coco-256x192-0e67c616_20220913.pth'\n",
    "model = init_model(config_file, checkpoint_file, device='cpu')  # or device='cuda:0'\n",
    "\n",
    "# please prepare an image with person\n",
    "results = inference_topdown(model, 'demo.jpg')\n"
   ]
  },
  {
   "cell_type": "code",
   "execution_count": null,
   "metadata": {
    "id": "OVgsALk_cujW"
   },
   "outputs": [],
   "source": [
    "#Run inference on frames and obtain 2D keypoints\n",
    "\n",
    "import glob\n",
    "from tqdm import tqdm\n",
    "\n",
    "def extract_keypoints(img_dir, out_dir):\n",
    "    os.makedirs(out_dir, exist_ok=True)\n",
    "    img_paths = sorted(glob.glob(f'{img_dir}/*.jpg'))\n",
    "    for img_path in tqdm(img_paths):\n",
    "        img = cv2.imread(img_path)\n",
    "        result = inference_topdown(model, img)\n",
    "        keypoints = result[0].pred_instances.keypoints if result else None\n",
    "        if keypoints is not None:\n",
    "            np.save(os.path.join(out_dir, os.path.basename(img_path).replace('.jpg', '.npy')), keypoints)\n",
    "\n",
    "# Run MMpose on both views\n",
    "extract_keypoints('frames/hand1', 'keypoints/hand1')\n",
    "extract_keypoints('frames/hand2', 'keypoints/hand2')\n"
   ]
  }
 ],
 "metadata": {
  "accelerator": "GPU",
  "colab": {
   "authorship_tag": "ABX9TyM3B2bZFR8wNL4D7iOS9zJK",
   "gpuType": "A100",
   "machine_shape": "hm",
   "provenance": []
  },
  "kernelspec": {
   "display_name": "Python 3",
   "name": "python3"
  },
  "language_info": {
   "name": "python"
  }
 },
 "nbformat": 4,
 "nbformat_minor": 0
}
